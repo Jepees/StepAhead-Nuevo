{
  "cells": [
    {
      "cell_type": "markdown",
      "metadata": {
        "id": "view-in-github",
        "colab_type": "text"
      },
      "source": [
        "<a href=\"https://colab.research.google.com/github/Jepees/StepAhead-Nuevo/blob/main/scripts/3_labeling_sentimen.ipynb\" target=\"_parent\"><img src=\"https://colab.research.google.com/assets/colab-badge.svg\" alt=\"Open In Colab\"/></a>"
      ]
    },
    {
      "cell_type": "code",
      "execution_count": null,
      "id": "00b7b050",
      "metadata": {
        "id": "00b7b050"
      },
      "outputs": [],
      "source": [
        "import openai\n",
        "import pandas as pd\n",
        "import time\n",
        "import tiktoken\n",
        "import os\n",
        "\n",
        "xxx = \"\" #token API OpenAI"
      ]
    },
    {
      "cell_type": "code",
      "execution_count": null,
      "id": "bc7f343f",
      "metadata": {
        "id": "bc7f343f",
        "outputId": "f82ba40c-4128-460a-b8dd-580c1edfc563"
      },
      "outputs": [
        {
          "data": {
            "text/html": [
              "<div>\n",
              "<style scoped>\n",
              "    .dataframe tbody tr th:only-of-type {\n",
              "        vertical-align: middle;\n",
              "    }\n",
              "\n",
              "    .dataframe tbody tr th {\n",
              "        vertical-align: top;\n",
              "    }\n",
              "\n",
              "    .dataframe thead th {\n",
              "        text-align: right;\n",
              "    }\n",
              "</style>\n",
              "<table border=\"1\" class=\"dataframe\">\n",
              "  <thead>\n",
              "    <tr style=\"text-align: right;\">\n",
              "      <th></th>\n",
              "      <th>Brand</th>\n",
              "      <th>nama barang</th>\n",
              "      <th>kategori</th>\n",
              "      <th>harga</th>\n",
              "      <th>harga_int</th>\n",
              "      <th>user</th>\n",
              "      <th>varian</th>\n",
              "      <th>ukuran</th>\n",
              "      <th>date</th>\n",
              "      <th>review</th>\n",
              "      <th>rating</th>\n",
              "      <th>terbantu</th>\n",
              "    </tr>\n",
              "  </thead>\n",
              "  <tbody>\n",
              "    <tr>\n",
              "      <th>0</th>\n",
              "      <td>910</td>\n",
              "      <td>nineten haze strike prime</td>\n",
              "      <td>sepatu lari</td>\n",
              "      <td>Rp550.905</td>\n",
              "      <td>550905</td>\n",
              "      <td>A***s</td>\n",
              "      <td>NaN</td>\n",
              "      <td>NaN</td>\n",
              "      <td>July 2025</td>\n",
              "      <td>Sepatunya ok dan pas dengan ukuran.. Nyampenya...</td>\n",
              "      <td>5</td>\n",
              "      <td>0</td>\n",
              "    </tr>\n",
              "    <tr>\n",
              "      <th>1</th>\n",
              "      <td>910</td>\n",
              "      <td>nineten haze strike prime</td>\n",
              "      <td>sepatu lari</td>\n",
              "      <td>Rp550.905</td>\n",
              "      <td>550905</td>\n",
              "      <td>Z***i</td>\n",
              "      <td>NaN</td>\n",
              "      <td>NaN</td>\n",
              "      <td>July 2025</td>\n",
              "      <td>barang original enak di pakek ngebut sepatunya</td>\n",
              "      <td>5</td>\n",
              "      <td>0</td>\n",
              "    </tr>\n",
              "    <tr>\n",
              "      <th>2</th>\n",
              "      <td>910</td>\n",
              "      <td>nineten haze strike prime</td>\n",
              "      <td>sepatu lari</td>\n",
              "      <td>Rp550.905</td>\n",
              "      <td>550905</td>\n",
              "      <td>R***i</td>\n",
              "      <td>NaN</td>\n",
              "      <td>NaN</td>\n",
              "      <td>July 2025</td>\n",
              "      <td>Bagus nyaman melebihi ekspektasi saya</td>\n",
              "      <td>5</td>\n",
              "      <td>0</td>\n",
              "    </tr>\n",
              "    <tr>\n",
              "      <th>3</th>\n",
              "      <td>910</td>\n",
              "      <td>nineten haze strike prime</td>\n",
              "      <td>sepatu lari</td>\n",
              "      <td>Rp550.905</td>\n",
              "      <td>550905</td>\n",
              "      <td>V***u</td>\n",
              "      <td>NaN</td>\n",
              "      <td>NaN</td>\n",
              "      <td>July 2025</td>\n",
              "      <td>Produknya mantapppplll</td>\n",
              "      <td>5</td>\n",
              "      <td>1</td>\n",
              "    </tr>\n",
              "    <tr>\n",
              "      <th>4</th>\n",
              "      <td>910</td>\n",
              "      <td>nineten haze strike prime</td>\n",
              "      <td>sepatu lari</td>\n",
              "      <td>Rp550.905</td>\n",
              "      <td>550905</td>\n",
              "      <td>Y***e</td>\n",
              "      <td>NaN</td>\n",
              "      <td>NaN</td>\n",
              "      <td>July 2025</td>\n",
              "      <td>Pengiriman cepat</td>\n",
              "      <td>5</td>\n",
              "      <td>0</td>\n",
              "    </tr>\n",
              "    <tr>\n",
              "      <th>...</th>\n",
              "      <td>...</td>\n",
              "      <td>...</td>\n",
              "      <td>...</td>\n",
              "      <td>...</td>\n",
              "      <td>...</td>\n",
              "      <td>...</td>\n",
              "      <td>...</td>\n",
              "      <td>...</td>\n",
              "      <td>...</td>\n",
              "      <td>...</td>\n",
              "      <td>...</td>\n",
              "      <td>...</td>\n",
              "    </tr>\n",
              "    <tr>\n",
              "      <th>13908</th>\n",
              "      <td>Nuevo</td>\n",
              "      <td>nuevo siloka shadow low</td>\n",
              "      <td>sepatu lifestyle</td>\n",
              "      <td>Rp59.900</td>\n",
              "      <td>59900</td>\n",
              "      <td>A***e</td>\n",
              "      <td>NaN</td>\n",
              "      <td>38.0</td>\n",
              "      <td>April 2024</td>\n",
              "      <td>NaN</td>\n",
              "      <td>4</td>\n",
              "      <td>0</td>\n",
              "    </tr>\n",
              "    <tr>\n",
              "      <th>13909</th>\n",
              "      <td>Nuevo</td>\n",
              "      <td>nuevo siloka shadow low</td>\n",
              "      <td>sepatu lifestyle</td>\n",
              "      <td>Rp59.900</td>\n",
              "      <td>59900</td>\n",
              "      <td>D***i</td>\n",
              "      <td>NaN</td>\n",
              "      <td>40.0</td>\n",
              "      <td>April 2024</td>\n",
              "      <td>NaN</td>\n",
              "      <td>5</td>\n",
              "      <td>0</td>\n",
              "    </tr>\n",
              "    <tr>\n",
              "      <th>13910</th>\n",
              "      <td>Nuevo</td>\n",
              "      <td>nuevo siloka shadow low</td>\n",
              "      <td>sepatu lifestyle</td>\n",
              "      <td>Rp59.900</td>\n",
              "      <td>59900</td>\n",
              "      <td>d***a</td>\n",
              "      <td>NaN</td>\n",
              "      <td>42.0</td>\n",
              "      <td>April 2024</td>\n",
              "      <td>Lumyan</td>\n",
              "      <td>5</td>\n",
              "      <td>0</td>\n",
              "    </tr>\n",
              "    <tr>\n",
              "      <th>13911</th>\n",
              "      <td>Nuevo</td>\n",
              "      <td>nuevo siloka shadow low</td>\n",
              "      <td>sepatu lifestyle</td>\n",
              "      <td>Rp59.900</td>\n",
              "      <td>59900</td>\n",
              "      <td>r***n</td>\n",
              "      <td>NaN</td>\n",
              "      <td>41.0</td>\n",
              "      <td>April 2024</td>\n",
              "      <td>NaN</td>\n",
              "      <td>3</td>\n",
              "      <td>0</td>\n",
              "    </tr>\n",
              "    <tr>\n",
              "      <th>13912</th>\n",
              "      <td>Nuevo</td>\n",
              "      <td>nuevo siloka shadow low</td>\n",
              "      <td>sepatu lifestyle</td>\n",
              "      <td>Rp59.900</td>\n",
              "      <td>59900</td>\n",
              "      <td>M****</td>\n",
              "      <td>NaN</td>\n",
              "      <td>41.0</td>\n",
              "      <td>April 2024</td>\n",
              "      <td>.</td>\n",
              "      <td>4</td>\n",
              "      <td>0</td>\n",
              "    </tr>\n",
              "  </tbody>\n",
              "</table>\n",
              "<p>13913 rows × 12 columns</p>\n",
              "</div>"
            ],
            "text/plain": [
              "       Brand                nama barang          kategori      harga  \\\n",
              "0        910  nineten haze strike prime       sepatu lari  Rp550.905   \n",
              "1        910  nineten haze strike prime       sepatu lari  Rp550.905   \n",
              "2        910  nineten haze strike prime       sepatu lari  Rp550.905   \n",
              "3        910  nineten haze strike prime       sepatu lari  Rp550.905   \n",
              "4        910  nineten haze strike prime       sepatu lari  Rp550.905   \n",
              "...      ...                        ...               ...        ...   \n",
              "13908  Nuevo    nuevo siloka shadow low  sepatu lifestyle   Rp59.900   \n",
              "13909  Nuevo    nuevo siloka shadow low  sepatu lifestyle   Rp59.900   \n",
              "13910  Nuevo    nuevo siloka shadow low  sepatu lifestyle   Rp59.900   \n",
              "13911  Nuevo    nuevo siloka shadow low  sepatu lifestyle   Rp59.900   \n",
              "13912  Nuevo    nuevo siloka shadow low  sepatu lifestyle   Rp59.900   \n",
              "\n",
              "       harga_int   user varian  ukuran        date  \\\n",
              "0         550905  A***s    NaN     NaN   July 2025   \n",
              "1         550905  Z***i    NaN     NaN   July 2025   \n",
              "2         550905  R***i    NaN     NaN   July 2025   \n",
              "3         550905  V***u    NaN     NaN   July 2025   \n",
              "4         550905  Y***e    NaN     NaN   July 2025   \n",
              "...          ...    ...    ...     ...         ...   \n",
              "13908      59900  A***e    NaN    38.0  April 2024   \n",
              "13909      59900  D***i    NaN    40.0  April 2024   \n",
              "13910      59900  d***a    NaN    42.0  April 2024   \n",
              "13911      59900  r***n    NaN    41.0  April 2024   \n",
              "13912      59900  M****    NaN    41.0  April 2024   \n",
              "\n",
              "                                                  review  rating  terbantu  \n",
              "0      Sepatunya ok dan pas dengan ukuran.. Nyampenya...       5         0  \n",
              "1         barang original enak di pakek ngebut sepatunya       5         0  \n",
              "2                  Bagus nyaman melebihi ekspektasi saya       5         0  \n",
              "3                                 Produknya mantapppplll       5         1  \n",
              "4                                       Pengiriman cepat       5         0  \n",
              "...                                                  ...     ...       ...  \n",
              "13908                                                NaN       4         0  \n",
              "13909                                                NaN       5         0  \n",
              "13910                                             Lumyan       5         0  \n",
              "13911                                                NaN       3         0  \n",
              "13912                                                  .       4         0  \n",
              "\n",
              "[13913 rows x 12 columns]"
            ]
          },
          "execution_count": 12,
          "metadata": {},
          "output_type": "execute_result"
        }
      ],
      "source": [
        "df = pd.read_csv(\"https://raw.githubusercontent.com/Jepees/StepAhead-Nuevo/refs/heads/main/data/data_clean_merge.csv\")\n",
        "df"
      ]
    },
    {
      "cell_type": "markdown",
      "id": "c53a6baf",
      "metadata": {
        "id": "c53a6baf"
      },
      "source": [
        "## 1st Labelling"
      ]
    },
    {
      "cell_type": "code",
      "execution_count": null,
      "id": "cfe1f377",
      "metadata": {
        "id": "cfe1f377"
      },
      "outputs": [],
      "source": [
        "openai.api_key = xxx\n",
        "\n",
        "def classify_sentiment(text):\n",
        "    try:\n",
        "        response = openai.ChatCompletion.create(\n",
        "            # model=\"gpt-4o-mini\",\n",
        "            model=\"gpt-4.1-mini\",\n",
        "            # model=\"gpt-3.5-turbo\",\n",
        "            messages=[\n",
        "                {\"role\": \"system\", \"content\": (\n",
        "                    \"Anda adalah asisten analisis sentimen untuk ulasan produk sepatu dari marketplace online.\\n\\n\"\n",
        "                    \"Tugas Anda adalah membaca ulasan pengguna terhadap produk sepatu dari brand seperti 910, Ortuseight, Mills, atau Nuevo, \"\n",
        "                    \"kemudian mengklasifikasikan sentimen terhadap produk tersebut sebagai:\\n\"\n",
        "                    \"- 1 jika ulasan hanya berisi pujian atau komentar positif **tanpa menyebutkan kekurangan sama sekali**.\\n\"\n",
        "                    \"- -1 jika ulasan mengandung **kritik sekecil apa pun**, termasuk menyebut cacat produk, kekurangan, keluhan ringan, atau perbandingan negatif.\\n\"\n",
        "                    \"- 0 jika ulasan bersifat ambigu, netral, atau hanya menjelaskan fitur produk tanpa opini jelas.\\n\\n\"\n",
        "                    \"Contoh:\\n\"\n",
        "                    \"- \\\"Cuma lemnya aja gak rapi blepotan. Secara keseluruhan bagus\\\" → -1 (karena menyebutkan kekurangan)\\n\"\n",
        "                    \"- \\\"Sesuai gambar, oke banget!\\\" → 1\\n\"\n",
        "                    \"- \\\"Datang cepat, belum dicoba\\\" → 0\\n\\n\"\n",
        "                    \"Jawaban Anda harus hanya berupa satu angka: -1, 0, atau 1.\"\n",
        "                )},\n",
        "                {\"role\": \"user\", \"content\": f\"Teks ulasan: {text}\"}\n",
        "            ],\n",
        "            temperature=0\n",
        "        )\n",
        "\n",
        "        label_text = response['choices'][0]['message']['content'].strip()\n",
        "        if label_text in ['-1', '0', '1']:\n",
        "            return int(label_text)\n",
        "        else:\n",
        "            print(\"Output tidak sesuai:\", label_text)\n",
        "            return None\n",
        "\n",
        "    except Exception as e:\n",
        "        print(\"Error:\", e)\n",
        "        return None\n"
      ]
    },
    {
      "cell_type": "code",
      "execution_count": null,
      "id": "5fc807ba",
      "metadata": {
        "id": "5fc807ba",
        "outputId": "863fdc7c-5fce-4268-9675-c58f0f99b040"
      },
      "outputs": [
        {
          "name": "stdout",
          "output_type": "stream",
          "text": [
            "Untuk produk sih bagus...cuman agak kecewa sm pengiriman nya 1 mgg lbh, pdhl biasanya 3/4 hari sudah sampai..\n"
          ]
        },
        {
          "data": {
            "text/plain": [
              "-1"
            ]
          },
          "execution_count": 48,
          "metadata": {},
          "output_type": "execute_result"
        }
      ],
      "source": [
        "teks = df['review'].loc[146]\n",
        "print(teks)\n",
        "classify_sentiment(teks)"
      ]
    },
    {
      "cell_type": "code",
      "execution_count": null,
      "id": "82304fde",
      "metadata": {
        "id": "82304fde",
        "outputId": "437d1e99-1713-457e-fcd3-4b949ff5e1ee"
      },
      "outputs": [
        {
          "name": "stdout",
          "output_type": "stream",
          "text": [
            "140: produk sesuai deskripsi. tp saya kekecilan sizenya  padahal insole udah sama. untung cukup di kaki anak saya. thanks 910\n",
            "141: Sol nya pas tp polanya gak bener\n",
            "142: Ukuran harus lebih 1 size. Aku biasa pake 40 ini kekecilan, tukar deh jadi 41\n",
            "143: Sepatu kekecilan sebaiknya klo biasanya ukuran 38 beli yg lebih besar lg spy ga kesempitan\n",
            "144: Sedih kekecilannnnnn bgus kokkkk\n",
            "145: Barangnya telah sampai sesuai dengan pesanan.... Sepatunya ringan sekali.... Pokoknya bagus sekali.. Rekomendasi beli lagi de\n",
            "146: Untuk produk sih bagus...cuman agak kecewa sm pengiriman nya 1 mgg lbh, pdhl biasanya 3/4 hari sudah sampai..\n",
            "147: Sepatunya bagus, emang btl ya, size yg biasa di pakai kekecilan. Tks\n",
            "148: Cute banget warnanya licuuuuuj\n",
            "149: mantap, keren, dan tidak mengecewakan pokoknya👍🏻\n",
            "150: nyaman dipakai\n",
            "151: received ✅\n",
            "152: Suka banget aayo pada beli\n",
            "153: Kren mantul😍\n",
            "154: Keren\n",
            "155: tq\n",
            "156: ..\n",
            "157: Bentuk dan ukuran: Pas sesuai pesanan ,pengiriman cepat ,pokoknya best lah ,sukses terus buat toko nya ,lancar\n",
            "158: Bagus sesuai ukuran insol saya 28 di saranin pake 45 dan cocok\n",
            "159: Realpict bagus barang sesuai dan harga terjangkau,,next order lagi\n",
            "160: Sip lah , produk ori , sesuai spek\n"
          ]
        }
      ],
      "source": [
        "dop = df['review'].loc[140:160]\n",
        "for i in dop.index:\n",
        "    print(f\"{i}: {dop.loc[i]}\")"
      ]
    },
    {
      "cell_type": "code",
      "execution_count": null,
      "id": "806e4559",
      "metadata": {
        "id": "806e4559"
      },
      "outputs": [],
      "source": [
        "# batching data\n",
        "df1 = df.loc[:3000]\n",
        "df2 = df.loc[3001:6000]\n",
        "df3 = df.loc[6001:9000]\n",
        "df4 = df.loc[9001:12000]\n",
        "df5 = df.loc[12001:]"
      ]
    },
    {
      "cell_type": "markdown",
      "id": "14f13b7e",
      "metadata": {
        "id": "14f13b7e"
      },
      "source": [
        "### df1"
      ]
    },
    {
      "cell_type": "code",
      "execution_count": null,
      "id": "9fd2a438",
      "metadata": {
        "id": "9fd2a438",
        "outputId": "fa119872-69e1-4c90-c512-62438e07f974"
      },
      "outputs": [
        {
          "name": "stderr",
          "output_type": "stream",
          "text": [
            "C:\\Users\\Dell\\AppData\\Local\\Temp\\ipykernel_14064\\1439696164.py:2: SettingWithCopyWarning: \n",
            "A value is trying to be set on a copy of a slice from a DataFrame.\n",
            "Try using .loc[row_indexer,col_indexer] = value instead\n",
            "\n",
            "See the caveats in the documentation: https://pandas.pydata.org/pandas-docs/stable/user_guide/indexing.html#returning-a-view-versus-a-copy\n",
            "  df1['label_sentimen'] = df1['review'].apply(lambda x: classify_sentiment(x))\n"
          ]
        }
      ],
      "source": [
        "# Tambahkan kolom label_sentimen\n",
        "df1['label_sentimen'] = df1['review'].apply(lambda x: classify_sentiment(x))\n",
        "df1.to_csv(\"df1.csv\")"
      ]
    },
    {
      "cell_type": "markdown",
      "id": "df086d73",
      "metadata": {
        "id": "df086d73"
      },
      "source": [
        "### df2"
      ]
    },
    {
      "cell_type": "code",
      "execution_count": null,
      "id": "a171a379",
      "metadata": {
        "id": "a171a379",
        "outputId": "dacb55b6-8cda-4e1c-effb-e3e434e649d7"
      },
      "outputs": [
        {
          "name": "stdout",
          "output_type": "stream",
          "text": [
            "Output tidak sesuai: Silakan berikan teks ulasan yang ingin Anda analisis, dan saya akan membantu mengklasifikasikan sentimennya.\n"
          ]
        },
        {
          "name": "stderr",
          "output_type": "stream",
          "text": [
            "C:\\Users\\Dell\\AppData\\Local\\Temp\\ipykernel_14064\\3363900631.py:2: SettingWithCopyWarning: \n",
            "A value is trying to be set on a copy of a slice from a DataFrame.\n",
            "Try using .loc[row_indexer,col_indexer] = value instead\n",
            "\n",
            "See the caveats in the documentation: https://pandas.pydata.org/pandas-docs/stable/user_guide/indexing.html#returning-a-view-versus-a-copy\n",
            "  df2['label_sentimen'] = df2['review'].apply(lambda x: classify_sentiment(x))\n"
          ]
        }
      ],
      "source": [
        "# Tambahkan kolom label_sentimen\n",
        "df2['label_sentimen'] = df2['review'].apply(lambda x: classify_sentiment(x))\n",
        "df2.to_csv(\"df2.csv\")"
      ]
    },
    {
      "cell_type": "markdown",
      "id": "e6b6f9e7",
      "metadata": {
        "id": "e6b6f9e7"
      },
      "source": [
        "### df3"
      ]
    },
    {
      "cell_type": "code",
      "execution_count": null,
      "id": "e5fd2e9d",
      "metadata": {
        "id": "e5fd2e9d",
        "outputId": "231e0b58-cdba-4534-b750-2730241f18d9"
      },
      "outputs": [
        {
          "name": "stdout",
          "output_type": "stream",
          "text": [
            "Error: HTTP code 502 from API (<html>\n",
            "<head><title>502 Bad Gateway</title></head>\n",
            "<body>\n",
            "<center><h1>502 Bad Gateway</h1></center>\n",
            "<hr><center>cloudflare</center>\n",
            "</body>\n",
            "</html>\n",
            ")\n",
            "Output tidak sesuai: Silakan berikan teks ulasan yang ingin Anda analisis, dan saya akan memberikan klasifikasi sentimennya.\n"
          ]
        },
        {
          "name": "stderr",
          "output_type": "stream",
          "text": [
            "C:\\Users\\Dell\\AppData\\Local\\Temp\\ipykernel_14064\\1553068472.py:2: SettingWithCopyWarning: \n",
            "A value is trying to be set on a copy of a slice from a DataFrame.\n",
            "Try using .loc[row_indexer,col_indexer] = value instead\n",
            "\n",
            "See the caveats in the documentation: https://pandas.pydata.org/pandas-docs/stable/user_guide/indexing.html#returning-a-view-versus-a-copy\n",
            "  df3['label_sentimen'] = df3['review'].apply(lambda x: classify_sentiment(x))\n"
          ]
        }
      ],
      "source": [
        "# Tambahkan kolom label_sentimen\n",
        "df3['label_sentimen'] = df3['review'].apply(lambda x: classify_sentiment(x))\n",
        "df3.to_csv(\"df3.csv\")"
      ]
    },
    {
      "cell_type": "markdown",
      "id": "a2c48283",
      "metadata": {
        "id": "a2c48283"
      },
      "source": [
        "### df4"
      ]
    },
    {
      "cell_type": "code",
      "execution_count": null,
      "id": "ccfdea66",
      "metadata": {
        "id": "ccfdea66",
        "outputId": "397ca7c1-e354-451e-f921-beb460dd5903"
      },
      "outputs": [
        {
          "name": "stderr",
          "output_type": "stream",
          "text": [
            "C:\\Users\\Dell\\AppData\\Local\\Temp\\ipykernel_10824\\1020095231.py:2: SettingWithCopyWarning: \n",
            "A value is trying to be set on a copy of a slice from a DataFrame.\n",
            "Try using .loc[row_indexer,col_indexer] = value instead\n",
            "\n",
            "See the caveats in the documentation: https://pandas.pydata.org/pandas-docs/stable/user_guide/indexing.html#returning-a-view-versus-a-copy\n",
            "  df4['label_sentimen'] = df4['review'].apply(lambda x: classify_sentiment(x))\n"
          ]
        }
      ],
      "source": [
        "# Tambahkan kolom label_sentimen\n",
        "df4['label_sentimen'] = df4['review'].apply(lambda x: classify_sentiment(x))\n",
        "df4.to_csv(\"df4.csv\")"
      ]
    },
    {
      "cell_type": "markdown",
      "id": "1427c64f",
      "metadata": {
        "id": "1427c64f"
      },
      "source": [
        "### df5"
      ]
    },
    {
      "cell_type": "code",
      "execution_count": null,
      "id": "4be35f24",
      "metadata": {
        "id": "4be35f24",
        "outputId": "0187d2d7-094c-4dbc-95b3-9184a29dd8f8"
      },
      "outputs": [
        {
          "name": "stdout",
          "output_type": "stream",
          "text": [
            "Error: Request timed out: HTTPSConnectionPool(host='api.openai.com', port=443): Read timed out. (read timeout=600)\n",
            "Output tidak sesuai: Ulasan ini tidak memberikan informasi yang cukup untuk diklasifikasikan. Mohon berikan ulasan yang lebih lengkap. Terima kasih!\n",
            "Output tidak sesuai: Ulasan ini tidak memberikan informasi yang cukup untuk diklasifikasikan. Silakan berikan ulasan yang lebih lengkap. Terima kasih!\n",
            "Output tidak sesuai: Maaf, tapi saya memerlukan teks ulasan mengenai produk sepatu agar dapat memberikan klasifikasi sentimen. Silakan berikan ulasan mengenai produk sepatu tersebut. Terima kasih!\n"
          ]
        },
        {
          "name": "stderr",
          "output_type": "stream",
          "text": [
            "C:\\Users\\Dell\\AppData\\Local\\Temp\\ipykernel_10824\\2645783086.py:2: SettingWithCopyWarning: \n",
            "A value is trying to be set on a copy of a slice from a DataFrame.\n",
            "Try using .loc[row_indexer,col_indexer] = value instead\n",
            "\n",
            "See the caveats in the documentation: https://pandas.pydata.org/pandas-docs/stable/user_guide/indexing.html#returning-a-view-versus-a-copy\n",
            "  df5['label_sentimen'] = df5['review'].apply(lambda x: classify_sentiment(x))\n"
          ]
        }
      ],
      "source": [
        "# Tambahkan kolom label_sentimen\n",
        "df5['label_sentimen'] = df5['review'].apply(lambda x: classify_sentiment(x))\n",
        "df5.to_csv(\"df5.csv\")"
      ]
    },
    {
      "cell_type": "markdown",
      "id": "50cc0037",
      "metadata": {
        "id": "50cc0037"
      },
      "source": [
        "## Merging"
      ]
    },
    {
      "cell_type": "code",
      "execution_count": null,
      "id": "6251c8e6",
      "metadata": {
        "id": "6251c8e6"
      },
      "outputs": [],
      "source": [
        "# datas = {f'df{i+1}': pd.read_csv(f'./folder labeling/1st labeling/{os.listdir(\"./folder labeling/1st labeling\")[i]}', index_col='Unnamed: 0') for i in range(len(os.listdir(\"./folder labeling/1st labeling\")))}\n",
        "df = pd.concat([df1,df2,df3,df4,df5])\n",
        "df.to_csv(\"data_with_sentimen.csv\", index=False)\n",
        "df"
      ]
    },
    {
      "cell_type": "code",
      "execution_count": null,
      "id": "89f5a57b",
      "metadata": {
        "id": "89f5a57b",
        "outputId": "0b5ec223-3e99-41c7-d250-a9cccbdedec1"
      },
      "outputs": [
        {
          "data": {
            "text/html": [
              "<div>\n",
              "<style scoped>\n",
              "    .dataframe tbody tr th:only-of-type {\n",
              "        vertical-align: middle;\n",
              "    }\n",
              "\n",
              "    .dataframe tbody tr th {\n",
              "        vertical-align: top;\n",
              "    }\n",
              "\n",
              "    .dataframe thead th {\n",
              "        text-align: right;\n",
              "    }\n",
              "</style>\n",
              "<table border=\"1\" class=\"dataframe\">\n",
              "  <thead>\n",
              "    <tr style=\"text-align: right;\">\n",
              "      <th></th>\n",
              "      <th>Brand</th>\n",
              "      <th>nama barang</th>\n",
              "      <th>kategori</th>\n",
              "      <th>harga</th>\n",
              "      <th>harga_int</th>\n",
              "      <th>user</th>\n",
              "      <th>varian</th>\n",
              "      <th>ukuran</th>\n",
              "      <th>date</th>\n",
              "      <th>review</th>\n",
              "      <th>rating</th>\n",
              "      <th>terbantu</th>\n",
              "      <th>label_sentimen</th>\n",
              "    </tr>\n",
              "  </thead>\n",
              "  <tbody>\n",
              "    <tr>\n",
              "      <th>0</th>\n",
              "      <td>910</td>\n",
              "      <td>nineten haze strike prime</td>\n",
              "      <td>sepatu lari</td>\n",
              "      <td>Rp550.905</td>\n",
              "      <td>550905</td>\n",
              "      <td>A***s</td>\n",
              "      <td>NaN</td>\n",
              "      <td>NaN</td>\n",
              "      <td>July 2025</td>\n",
              "      <td>Sepatunya ok dan pas dengan ukuran.. Nyampenya...</td>\n",
              "      <td>5</td>\n",
              "      <td>0</td>\n",
              "      <td>1</td>\n",
              "    </tr>\n",
              "    <tr>\n",
              "      <th>1</th>\n",
              "      <td>910</td>\n",
              "      <td>nineten haze strike prime</td>\n",
              "      <td>sepatu lari</td>\n",
              "      <td>Rp550.905</td>\n",
              "      <td>550905</td>\n",
              "      <td>Z***i</td>\n",
              "      <td>NaN</td>\n",
              "      <td>NaN</td>\n",
              "      <td>July 2025</td>\n",
              "      <td>barang original enak di pakek ngebut sepatunya</td>\n",
              "      <td>5</td>\n",
              "      <td>0</td>\n",
              "      <td>1</td>\n",
              "    </tr>\n",
              "    <tr>\n",
              "      <th>2</th>\n",
              "      <td>910</td>\n",
              "      <td>nineten haze strike prime</td>\n",
              "      <td>sepatu lari</td>\n",
              "      <td>Rp550.905</td>\n",
              "      <td>550905</td>\n",
              "      <td>R***i</td>\n",
              "      <td>NaN</td>\n",
              "      <td>NaN</td>\n",
              "      <td>July 2025</td>\n",
              "      <td>Bagus nyaman melebihi ekspektasi saya</td>\n",
              "      <td>5</td>\n",
              "      <td>0</td>\n",
              "      <td>1</td>\n",
              "    </tr>\n",
              "    <tr>\n",
              "      <th>3</th>\n",
              "      <td>910</td>\n",
              "      <td>nineten haze strike prime</td>\n",
              "      <td>sepatu lari</td>\n",
              "      <td>Rp550.905</td>\n",
              "      <td>550905</td>\n",
              "      <td>V***u</td>\n",
              "      <td>NaN</td>\n",
              "      <td>NaN</td>\n",
              "      <td>July 2025</td>\n",
              "      <td>Produknya mantapppplll</td>\n",
              "      <td>5</td>\n",
              "      <td>1</td>\n",
              "      <td>1</td>\n",
              "    </tr>\n",
              "    <tr>\n",
              "      <th>4</th>\n",
              "      <td>910</td>\n",
              "      <td>nineten haze strike prime</td>\n",
              "      <td>sepatu lari</td>\n",
              "      <td>Rp550.905</td>\n",
              "      <td>550905</td>\n",
              "      <td>Y***e</td>\n",
              "      <td>NaN</td>\n",
              "      <td>NaN</td>\n",
              "      <td>July 2025</td>\n",
              "      <td>Pengiriman cepat</td>\n",
              "      <td>5</td>\n",
              "      <td>0</td>\n",
              "      <td>0</td>\n",
              "    </tr>\n",
              "    <tr>\n",
              "      <th>...</th>\n",
              "      <td>...</td>\n",
              "      <td>...</td>\n",
              "      <td>...</td>\n",
              "      <td>...</td>\n",
              "      <td>...</td>\n",
              "      <td>...</td>\n",
              "      <td>...</td>\n",
              "      <td>...</td>\n",
              "      <td>...</td>\n",
              "      <td>...</td>\n",
              "      <td>...</td>\n",
              "      <td>...</td>\n",
              "      <td>...</td>\n",
              "    </tr>\n",
              "    <tr>\n",
              "      <th>13910</th>\n",
              "      <td>Nuevo</td>\n",
              "      <td>nuevo siloka shadow low</td>\n",
              "      <td>sepatu lifestyle</td>\n",
              "      <td>Rp59.900</td>\n",
              "      <td>59900</td>\n",
              "      <td>A***e</td>\n",
              "      <td>NaN</td>\n",
              "      <td>38.0</td>\n",
              "      <td>April 2024</td>\n",
              "      <td>NaN</td>\n",
              "      <td>4</td>\n",
              "      <td>0</td>\n",
              "      <td>0</td>\n",
              "    </tr>\n",
              "    <tr>\n",
              "      <th>13911</th>\n",
              "      <td>Nuevo</td>\n",
              "      <td>nuevo siloka shadow low</td>\n",
              "      <td>sepatu lifestyle</td>\n",
              "      <td>Rp59.900</td>\n",
              "      <td>59900</td>\n",
              "      <td>D***i</td>\n",
              "      <td>NaN</td>\n",
              "      <td>40.0</td>\n",
              "      <td>April 2024</td>\n",
              "      <td>NaN</td>\n",
              "      <td>5</td>\n",
              "      <td>0</td>\n",
              "      <td>0</td>\n",
              "    </tr>\n",
              "    <tr>\n",
              "      <th>13912</th>\n",
              "      <td>Nuevo</td>\n",
              "      <td>nuevo siloka shadow low</td>\n",
              "      <td>sepatu lifestyle</td>\n",
              "      <td>Rp59.900</td>\n",
              "      <td>59900</td>\n",
              "      <td>d***a</td>\n",
              "      <td>NaN</td>\n",
              "      <td>42.0</td>\n",
              "      <td>April 2024</td>\n",
              "      <td>Lumyan</td>\n",
              "      <td>5</td>\n",
              "      <td>0</td>\n",
              "      <td>0</td>\n",
              "    </tr>\n",
              "    <tr>\n",
              "      <th>13913</th>\n",
              "      <td>Nuevo</td>\n",
              "      <td>nuevo siloka shadow low</td>\n",
              "      <td>sepatu lifestyle</td>\n",
              "      <td>Rp59.900</td>\n",
              "      <td>59900</td>\n",
              "      <td>r***n</td>\n",
              "      <td>NaN</td>\n",
              "      <td>41.0</td>\n",
              "      <td>April 2024</td>\n",
              "      <td>NaN</td>\n",
              "      <td>3</td>\n",
              "      <td>0</td>\n",
              "      <td>0</td>\n",
              "    </tr>\n",
              "    <tr>\n",
              "      <th>13914</th>\n",
              "      <td>Nuevo</td>\n",
              "      <td>nuevo siloka shadow low</td>\n",
              "      <td>sepatu lifestyle</td>\n",
              "      <td>Rp59.900</td>\n",
              "      <td>59900</td>\n",
              "      <td>M****</td>\n",
              "      <td>NaN</td>\n",
              "      <td>41.0</td>\n",
              "      <td>April 2024</td>\n",
              "      <td>.</td>\n",
              "      <td>4</td>\n",
              "      <td>0</td>\n",
              "      <td>0</td>\n",
              "    </tr>\n",
              "  </tbody>\n",
              "</table>\n",
              "<p>13915 rows × 13 columns</p>\n",
              "</div>"
            ],
            "text/plain": [
              "       Brand                nama barang          kategori      harga  \\\n",
              "0        910  nineten haze strike prime       sepatu lari  Rp550.905   \n",
              "1        910  nineten haze strike prime       sepatu lari  Rp550.905   \n",
              "2        910  nineten haze strike prime       sepatu lari  Rp550.905   \n",
              "3        910  nineten haze strike prime       sepatu lari  Rp550.905   \n",
              "4        910  nineten haze strike prime       sepatu lari  Rp550.905   \n",
              "...      ...                        ...               ...        ...   \n",
              "13910  Nuevo    nuevo siloka shadow low  sepatu lifestyle   Rp59.900   \n",
              "13911  Nuevo    nuevo siloka shadow low  sepatu lifestyle   Rp59.900   \n",
              "13912  Nuevo    nuevo siloka shadow low  sepatu lifestyle   Rp59.900   \n",
              "13913  Nuevo    nuevo siloka shadow low  sepatu lifestyle   Rp59.900   \n",
              "13914  Nuevo    nuevo siloka shadow low  sepatu lifestyle   Rp59.900   \n",
              "\n",
              "       harga_int   user varian  ukuran        date  \\\n",
              "0         550905  A***s    NaN     NaN   July 2025   \n",
              "1         550905  Z***i    NaN     NaN   July 2025   \n",
              "2         550905  R***i    NaN     NaN   July 2025   \n",
              "3         550905  V***u    NaN     NaN   July 2025   \n",
              "4         550905  Y***e    NaN     NaN   July 2025   \n",
              "...          ...    ...    ...     ...         ...   \n",
              "13910      59900  A***e    NaN    38.0  April 2024   \n",
              "13911      59900  D***i    NaN    40.0  April 2024   \n",
              "13912      59900  d***a    NaN    42.0  April 2024   \n",
              "13913      59900  r***n    NaN    41.0  April 2024   \n",
              "13914      59900  M****    NaN    41.0  April 2024   \n",
              "\n",
              "                                                  review  rating  terbantu  \\\n",
              "0      Sepatunya ok dan pas dengan ukuran.. Nyampenya...       5         0   \n",
              "1         barang original enak di pakek ngebut sepatunya       5         0   \n",
              "2                  Bagus nyaman melebihi ekspektasi saya       5         0   \n",
              "3                                 Produknya mantapppplll       5         1   \n",
              "4                                       Pengiriman cepat       5         0   \n",
              "...                                                  ...     ...       ...   \n",
              "13910                                                NaN       4         0   \n",
              "13911                                                NaN       5         0   \n",
              "13912                                             Lumyan       5         0   \n",
              "13913                                                NaN       3         0   \n",
              "13914                                                  .       4         0   \n",
              "\n",
              "       label_sentimen  \n",
              "0                   1  \n",
              "1                   1  \n",
              "2                   1  \n",
              "3                   1  \n",
              "4                   0  \n",
              "...               ...  \n",
              "13910               0  \n",
              "13911               0  \n",
              "13912               0  \n",
              "13913               0  \n",
              "13914               0  \n",
              "\n",
              "[13915 rows x 13 columns]"
            ]
          },
          "execution_count": 14,
          "metadata": {},
          "output_type": "execute_result"
        }
      ],
      "source": [
        "df = pd.read_csv('https://raw.githubusercontent.com/Jepees/StepAhead-Nuevo/refs/heads/main/data/data_with_sentimen.csv')\n",
        "df"
      ]
    },
    {
      "cell_type": "code",
      "execution_count": null,
      "id": "e1b92235",
      "metadata": {
        "id": "e1b92235",
        "outputId": "65a62be6-2229-4d8c-c071-776813f2766b"
      },
      "outputs": [
        {
          "data": {
            "text/plain": [
              "label_sentimen\n",
              " 1    9121\n",
              " 0    2814\n",
              "-1    1980\n",
              "Name: count, dtype: int64"
            ]
          },
          "execution_count": 15,
          "metadata": {},
          "output_type": "execute_result"
        }
      ],
      "source": [
        "df['label_sentimen'].value_counts()"
      ]
    },
    {
      "cell_type": "code",
      "execution_count": null,
      "id": "f642072b",
      "metadata": {
        "id": "f642072b",
        "outputId": "e8d580db-07f7-4e7b-d8ec-6a7c7406de67"
      },
      "outputs": [
        {
          "name": "stdout",
          "output_type": "stream",
          "text": [
            "untuk sentimen -1:\n",
            "100: overall sepatunya bagus, dari bahan, warna, dan Kualitas, cuman mungkin stock terakhir jadi ada beberapa noda di midsolenya, Terimakasih Nineteen, bangga Produk Lokal\n",
            "101: KUALITAS BAIK , TAPI 46 NYA BEDA DENGAN 46 MERK SCHE**RS BUT OVERALL OKE Modelnya keren!.\n",
            "102: respon cepat cuma masih keras  mudah2an lama2 bisa lebih empuk\n",
            "103: the besttt. buat harga segini udh oke banget fitur2nya jgn minta aneh2 dibawah 500rb cuma packingnya aja agak menyedihkan pake bubble warp doang jadi box pasti ancur kalo... \n",
            "104: Kwalitas ok, hanya saja tiba2 hrs upsize 1 nmr utk produk yg tersedia nya\n",
            "105: Seller (lumayan fast respon dan enak waktu tanya-tanya barangnya), Barang (Original yang pasti, local pride, keren parah), Packing (Kurang aman karena pakai bubble wrap t... \n",
            "106: pertama kali mencoba lari 5K, masih terasa kurang nyaman..mungkin harus dicoba beberapa kali baru sesuai dengan bentuk kaki..dari sisi design sepatu ini sudah sangat bagu... \n",
            "107: sepatu 910 kedua yg sy punya.. keren dan nyamannya ok banget utk harga segini. produk lokal yg membanggakan. tp tali sepatunya kurang panjang, runner kan cara taliin sepa... \n",
            "108: keren si modelnya nyaman juga, tpi sayng bagian lidah sepatunya panjang sebelah\n",
            "109: bagus barang nya, seller nya juga oke fast respon, mines nya cuma pengiriman nya lama sama ukuran nya ngepas bangat di kaki. Keknya salah 1 ukuran deh.\n",
            "110: Dikirim pertama kali hanya kaos kaki dengan alasan barang terlambat produksi. Akhirnya kemarin dikirim sepatunya tapi seperti sepatu palsu. Lem tidak rapih, dan kualitas... \n",
            "111: Has been received, Terima kasih seller. cakep abis emang. dapet potongan 70rebuan, alhamdulillah. ternyata di lazmall lebih banyak potongannya. tapi gapapa. empuk sol sep... \n",
            "112: Kainyaa Tipis Mudah²an sepatu bisa bertahan\n",
            "113: bgus sih tapi lem nya kurang merata\n",
            "114: Kok ngk ada kaos kaki nya kak,kmren infonya free kaos kaki\n",
            "115: Bagus cmn pengiriman lama\n",
            "116: pengiriman lamaa bangettttttt\n",
            "117: Ringan, bahan nyaman sesuai ekspetasi. Jgn up size guys Tapi ga dapat kaos kaki ah\n",
            "118: Kualitas bagus tapi sayang kurang teliti ketika pengiriman barang\n",
            "119: Baguss poll,ringan,Mantepp🤩🤩🤩 Tapi pengiriman nya lamaaa\n",
            "\n",
            "\n",
            "untuk sentimen 0:\n",
            "100: sesuai pesanan pengiriman cepat\n",
            "101: katanya free kaos kaki\n",
            "102: Sesuai\n",
            "103: G\n",
            "104: Y\n",
            "105: Ok\n",
            "106: 👍\n",
            "107: Saya biasa pakai size 45, tp di sepatu ini upsize 1 jadi 46. Desain cakep, kualitas oke, semoga bisa awet dan nyaman\n",
            "108: Pengiriman cepat dan barang sesuai deskripsi\n",
            "109: nyobain produk lokal\n",
            "110: nan\n",
            "111: nan\n",
            "112: terimakasih\n",
            "113: so far so good, keep of service.. tinggal dicoba , ringan and ok design nya..merah putih Indonesia Raya.. Mantabbb\n",
            "114: Ukuran Sesuai Deskripsi.\n",
            "115: Ukuran 37 dgn insole 24.8 cm, cukup pas utk yg biasa pake ukuran 37.5 atau insole 23.5 cm. Model produk keren! Respon seller & pengiriman cepat. Sepatu cukup nyaman,... \n",
            "116: Penjual ramah, responsnya cepat, pengiriman juga cepat, kualitas brg sudah bagus untuk kelas harganya, sekilas dicoba cukup nyaman, smoga awet..\n",
            "117: Pas di kaki\n",
            "118: Barang sampai dengan aman sampai tujuan, sesuai, dan lebih cepat dari estimasi. sebelum datang takut barang memiliki ukuran yang terlalu besar, ternyata pas dan cocok bil... \n",
            "119: nan\n",
            "\n",
            "\n",
            "untuk sentimen 1:\n",
            "100: Mantap\n",
            "101: Mantappp\n",
            "102: Modelnya keren!\n",
            "103: Ga nyesell beli sepatu ini.. Pass bngt\n",
            "104: produk local yg keren banget🥰\n",
            "105: Semoga awet👍🏻👍🏻\n",
            "106: Kelas\n",
            "107: Mantul sepatunya lht suami beli merk ini jadi ikutan beli juga sebagus itu sepatunya ringan dan empuk\n",
            "108: Cakeeeppp bangeettt\n",
            "109: Muantop pollll\n",
            "110: Gokillll\n",
            "111: Produk terbaik.\n",
            "112: good\n",
            "113: good\n",
            "114: Enak dipakai untuk kaki lebar, bagian ujung tidak menyakiti jari kaki, dan setelah dipakai lari tidak membuat lutut sakit. Tidak perlu menaikkan size, pesan ukuran sepert... \n",
            "115: Pokoknya perfect, penjual ramah, ongiriman cepat barang original, packibgan bagus, kurirnya ramah, sy sdh paket enk skali bt Running thanks penjual thanks kurir.\n",
            "116: Sesuai dengan yg difoto, bahan nyam dipake, sepatu nya keren\n",
            "117: Baru kali ini saya bangga dengan produk lokal. Nyaman dipakai buat lari. Sehat tanpa mahal ya 910\n",
            "118: Good product, seller fast response, recommended seller. Ukuran pas, lumayan empuk, ada runners knot. Okelah buat daily trainer. Semoga awet.\n",
            "119: local pride warna, kualitas bagus bgt worth it fit di kaki ukurannya jg enak dipake lari jg\n",
            "\n",
            "\n"
          ]
        }
      ],
      "source": [
        "for j in [-1, 0, 1]:\n",
        "    x = df[df['label_sentimen'] == j]['review']\n",
        "    print(f'untuk sentimen {j}:')\n",
        "    for i in range(100, 120):\n",
        "        print(f'{i}: {x.iloc[i]}')\n",
        "    print('\\n')"
      ]
    },
    {
      "cell_type": "markdown",
      "id": "f9db0ef2",
      "metadata": {
        "id": "f9db0ef2"
      },
      "source": []
    }
  ],
  "metadata": {
    "kernelspec": {
      "display_name": "Python 3",
      "language": "python",
      "name": "python3"
    },
    "language_info": {
      "codemirror_mode": {
        "name": "ipython",
        "version": 3
      },
      "file_extension": ".py",
      "mimetype": "text/x-python",
      "name": "python",
      "nbconvert_exporter": "python",
      "pygments_lexer": "ipython3",
      "version": "3.10.13"
    },
    "colab": {
      "provenance": [],
      "include_colab_link": true
    }
  },
  "nbformat": 4,
  "nbformat_minor": 5
}